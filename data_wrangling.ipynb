{
 "cells": [
  {
   "cell_type": "markdown",
   "metadata": {},
   "source": [
    "# Data Wrangling & Cleaning"
   ]
  },
  {
   "cell_type": "code",
   "execution_count": null,
   "metadata": {},
   "outputs": [],
   "source": [
    "# import the library\n",
    "%matplotlib inline\n",
    "\n",
    "import pandas as pd\n",
    "import numpy as np\n",
    "import matplotlib.pyplot as plt\n",
    "\n",
    "# convert scientific notation to decimals\n",
    "#pd.set_option('display.float_format', lambda x: '%.2f' % x)"
   ]
  },
  {
   "cell_type": "markdown",
   "metadata": {},
   "source": [
    "### Load & Merge the data"
   ]
  },
  {
   "cell_type": "code",
   "execution_count": null,
   "metadata": {},
   "outputs": [],
   "source": [
    "df_bedbugs = pd.read_csv('data/declarations-exterminations-punaises-de-lit.csv',encoding='utf-8')\n",
    "#df_walking_score = pd.read_csv('data/walking_score.csv')\n",
    "df_boroughs = pd.read_csv('data/boroughs.csv')"
   ]
  },
  {
   "cell_type": "markdown",
   "metadata": {},
   "source": [
    "### Summarizing your data for inspection"
   ]
  },
  {
   "cell_type": "code",
   "execution_count": null,
   "metadata": {},
   "outputs": [],
   "source": [
    "print('Bed Bugs')\n",
    "print(df_bedbugs.columns)\n",
    "print(df_bedbugs.head())\n",
    "print(df_bedbugs.describe())\n",
    "print('')\n",
    "print('Boroughs')\n",
    "print(df_boroughs.columns)\n",
    "print(df_boroughs.head())\n",
    "print(df_boroughs.describe())\n",
    "#print('')\n",
    "#print('Income')\n",
    "# TODO: print the columns, head and describe for the Income dataframe"
   ]
  },
  {
   "cell_type": "markdown",
   "metadata": {},
   "source": [
    "### Fixing column name"
   ]
  },
  {
   "cell_type": "code",
   "execution_count": null,
   "metadata": {},
   "outputs": [],
   "source": [
    "#df_income.columns = ['zipcode', 'median_income', 'mean_income', 'population']"
   ]
  },
  {
   "cell_type": "markdown",
   "metadata": {},
   "source": [
    "### Converting data types"
   ]
  },
  {
   "cell_type": "code",
   "execution_count": null,
   "metadata": {},
   "outputs": [],
   "source": [
    "#df_listing['date'] = pd.to_datetime(df_listing['date'])\n",
    "df_bedbugs['DATE_DECLARATION'] = pd.to_datetime(df_bedbugs['DATE_DECLARATION'])\n",
    "#df_bedbugs['COORD_X']=df_bedbugs['COORD_X'].round(1)\n",
    "#df_bedbugs.COORD_X = df_bedbugs.COORD_X.round(1)\n",
    "#df_bedbugs['NBR_EXTERMIN'] = \n",
    "#df_bedbugs['NBR_EXTERMIN'].astype(int)\n",
    "#df_bedbugs.head()\n",
    "#df_income['median_income'] = df_income['median_income'].str.replace(',', '').astype(float)\n",
    "#df_income['mean_income'] = df_income['mean_income'].str.replace(',', '').astype(float)\n",
    "#df_income.head()\n",
    "\n",
    "\n"
   ]
  },
  {
   "cell_type": "code",
   "execution_count": null,
   "metadata": {},
   "outputs": [],
   "source": [
    "# TODO: Convert the data type of the population column\n",
    "#df_income"
   ]
  },
  {
   "cell_type": "markdown",
   "metadata": {},
   "source": [
    "### Dealing with missing values\n",
    "How to deal with the missing values? Should we remove the rows or fill the gap with a value?"
   ]
  },
  {
   "cell_type": "code",
   "execution_count": null,
   "metadata": {},
   "outputs": [],
   "source": [
    "# Number of missing values by columns\n",
    "print(df_bedbugs.isnull().sum())\n",
    "print('')\n",
    "print(df_boroughs.isnull().sum())\n",
    "print('')\n",
    "#print(df_income.isnull().sum())"
   ]
  },
  {
   "cell_type": "code",
   "execution_count": null,
   "metadata": {},
   "outputs": [],
   "source": [
    "# select all the rows with missing values\n",
    "df_bedbugs[df_bedbugs.isnull().any(axis=1)]"
   ]
  },
  {
   "cell_type": "code",
   "execution_count": null,
   "metadata": {},
   "outputs": [],
   "source": [
    "# select all the rows with missing values\n",
    "df_boroughs[df_boroughs.isnull().any(axis=1)]"
   ]
  },
  {
   "cell_type": "code",
   "execution_count": null,
   "metadata": {},
   "outputs": [],
   "source": [
    "# TODO: Create a strategy to handle the missing values on the Walking Score and Income dataframes"
   ]
  },
  {
   "cell_type": "markdown",
   "metadata": {},
   "source": [
    "### Removing outliers\n",
    "Some algorithms are very sensitive to outliers. Considering the number of bedrooms, should we remove houses with an extreme number of bedrooms? How many bedrooms are too many? (Suggestion: as a rule of thumb, three standard deviations from the mean is a good measure to identify outliers)."
   ]
  },
  {
   "cell_type": "code",
   "execution_count": null,
   "metadata": {},
   "outputs": [],
   "source": [
    "# bedrooms\n",
    "print(df_bedbugs['NOM_ARROND'].value_counts())\n",
    "print('max:',np.max(df_bedbugs['NOM_ARROND'].value_counts()))\n",
    "print('min:',np.min(df_bedbugs['NOM_ARROND'].value_counts()))\n",
    "print('sum:',np.sum(df_bedbugs['NOM_ARROND'].value_counts()))\n",
    "print('mean:',np.mean(df_bedbugs['NOM_ARROND'].value_counts()))\n",
    "print('mean:',np.round(np.mean(df_bedbugs['NOM_ARROND'].value_counts()),2))\n",
    "print('std:',np.std(df_bedbugs['NOM_ARROND'].value_counts()))\n",
    "print('std:',np.round(np.std(df_bedbugs['NOM_ARROND'].value_counts()),2))\n",
    "print('median:',np.median(df_bedbugs['NOM_ARROND'].value_counts()))\n",
    "print ('count:',df_bedbugs['NOM_ARROND'].value_counts().count())\n",
    "\n",
    "plt.hist(df_bedbugs['NOM_ARROND'].value_counts(), bins=100)\n",
    "plt.show()"
   ]
  },
  {
   "cell_type": "code",
   "execution_count": null,
   "metadata": {},
   "outputs": [],
   "source": [
    "# TODO: Remove the outlier houses considering the number of bedrooms"
   ]
  },
  {
   "cell_type": "code",
   "execution_count": null,
   "metadata": {},
   "outputs": [],
   "source": [
    "# Dealing with outliers\n",
    "houses_to_remove = []\n",
    "\n",
    "# remove based on zipcode and price\n",
    "for zipcode in df_listing['zipcode'].unique():\n",
    "    df_zipcode = df_listing[df_listing['zipcode']==zipcode]\n",
    "    m = np.mean(df_zipcode['price'])\n",
    "    s = np.std(df_zipcode['price'])\n",
    "    houses_to_remove = houses_to_remove + list(df_zipcode[df_zipcode['price']>m+3.0*s].index)\n",
    "print('')\n",
    "print('# houses to remove', len(houses_to_remove))\n",
    "\n",
    "df_listing = df_listing[~df_listing.index.isin(houses_to_remove)]"
   ]
  },
  {
   "cell_type": "markdown",
   "metadata": {},
   "source": [
    " ##Merging Data Sets"
   ]
  },
  {
   "cell_type": "code",
   "execution_count": 95,
   "metadata": {},
   "outputs": [],
   "source": [
    "#df_merge = df_bedbugs.copy()\n",
    "#Both_DFs = pd.merge(df_bedbugs,df_boroughs, how='left',left_on=['NOM_ARROND'],right_on=['Arrondissement']).dropna()\n",
    "Both_DFs = pd.merge(df_bedbugs,df_boroughs, how='left',left_on=['NOM_ARROND'],right_on=['Arrondissement'])\n",
    "#df_merge = df_listing.copy()\n",
    "#df_merge = df_merge.merge(df_walking_score, on='zipcode', how='left')\n",
    "#df_merge = df_merge.merge(df_income, on='zipcode', how='left')\n",
    "\n",
    "#Both_DFs = pd.merge(df1,df2, how='left',left_on=['A','B'],right_on=['A','CC']).dropna()"
   ]
  },
  {
   "cell_type": "code",
   "execution_count": 97,
   "metadata": {},
   "outputs": [
    {
     "name": "stdout",
     "output_type": "stream",
     "text": [
      "Total # houses 33365\n",
      "   NO_DECLARATION    DATE_DECLARATION DATE_INSP_VISPRE  NBR_EXTERMIN  \\\n",
      "0            4254 2012-10-28 16:36:04       2012-09-21      1.000000   \n",
      "1             830 2011-09-16 09:45:58       2011-07-13      1.000000   \n",
      "2            1380 2011-11-08 14:01:04       2011-11-02      1.000000   \n",
      "3             455 2011-08-10 09:53:47       2011-08-09      1.000000   \n",
      "4            1243 2011-10-26 10:11:32       2011-09-16      1.000000   \n",
      "\n",
      "  DATE_DEBUTTRAIT DATE_FINTRAIT No_QR         NOM_QR  \\\n",
      "0      2012-09-21    2012-09-21    24     Beaurivage   \n",
      "1      2011-07-27    2011-08-17    50    Saint-Henri   \n",
      "2      2011-11-07    2011-11-21    30   Sainte-Marie   \n",
      "3      2011-08-09    2011-08-09    44  Upper Lachine   \n",
      "4      2011-10-05    2011-10-05    19    Petite-Côte   \n",
      "\n",
      "                            NOM_ARROND       COORD_X        COORD_Y  \\\n",
      "0        Mercier–Hochelaga-Maisonneuve 303753.600000 5049835.700000   \n",
      "1                         Le Sud-Ouest 298119.800000 5036963.700000   \n",
      "2                          Ville-Marie 300294.900000 5042372.100000   \n",
      "3  Côte-des-Neiges–Notre-Dame-de-Grâce 296046.900000 5036494.900000   \n",
      "4            Rosemont–La Petite-Patrie 299524.200000 5045639.900000   \n",
      "\n",
      "   LONGITUDE  LATITUDE                       Arrondissement  Pop_2016  \\\n",
      "0 -73.513411 45.588426        Mercier–Hochelaga-Maisonneuve    136024   \n",
      "1 -73.585437 45.472569                         Le Sud-Ouest     78151   \n",
      "2 -73.557668 45.521253                          Ville-Marie     89170   \n",
      "3 -73.611941 45.468327  Côte-des-Neiges–Notre-Dame-de-Grâce    166520   \n",
      "4 -73.567569 45.550652            Rosemont–La Petite-Patrie    139590   \n",
      "\n",
      "   Pop_2011  \n",
      "0    131483  \n",
      "1     71546  \n",
      "2     84013  \n",
      "3    165031  \n",
      "4    134038  \n"
     ]
    }
   ],
   "source": [
    "#print('Total # houses', len(df_merge))\n",
    "print('Total # houses', len(Both_DFs))\n",
    "print(Both_DFs.head())"
   ]
  },
  {
   "cell_type": "markdown",
   "metadata": {},
   "source": [
    "### Saving the processed file"
   ]
  },
  {
   "cell_type": "code",
   "execution_count": null,
   "metadata": {
    "collapsed": true
   },
   "outputs": [],
   "source": [
    "df_merge.to_csv('data/bedbugs_boro.csv', index=False)"
   ]
  },
  {
   "cell_type": "code",
   "execution_count": null,
   "metadata": {
    "collapsed": true
   },
   "outputs": [],
   "source": []
  }
 ],
 "metadata": {
  "anaconda-cloud": {},
  "kernelspec": {
   "display_name": "Python 3",
   "language": "python",
   "name": "python3"
  },
  "language_info": {
   "codemirror_mode": {
    "name": "ipython",
    "version": 3
   },
   "file_extension": ".py",
   "mimetype": "text/x-python",
   "name": "python",
   "nbconvert_exporter": "python",
   "pygments_lexer": "ipython3",
   "version": "3.7.1"
  }
 },
 "nbformat": 4,
 "nbformat_minor": 1
}
