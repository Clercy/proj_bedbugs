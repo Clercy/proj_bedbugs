{
 "cells": [
  {
   "cell_type": "markdown",
   "metadata": {},
   "source": [
    "# Exploratory Data Analysis"
   ]
  },
  {
   "cell_type": "code",
   "execution_count": 1,
   "metadata": {},
   "outputs": [],
   "source": [
    "# import the library\n",
    "%matplotlib inline\n",
    "\n",
    "import pandas as pd\n",
    "import numpy as np\n",
    "import scipy\n",
    "import matplotlib.pyplot as plt\n",
    "\n",
    "# the more advanced python visualization library\n",
    "import seaborn as sns\n",
    "\n",
    "# apply style to all the charts\n",
    "sns.set_style('whitegrid')\n",
    "\n",
    "# convert scientific notation to decimals\n",
    "pd.set_option('display.float_format', lambda x: '%.2f' % x)"
   ]
  },
  {
   "cell_type": "code",
   "execution_count": 5,
   "metadata": {},
   "outputs": [
    {
     "data": {
      "text/plain": [
       "0        2012-09-21\n",
       "1        2011-07-27\n",
       "2        2011-11-07\n",
       "3        2011-08-09\n",
       "4        2011-10-05\n",
       "5        2012-11-08\n",
       "6        2011-07-05\n",
       "7        2012-03-18\n",
       "8        2012-10-30\n",
       "9        2011-08-03\n",
       "10       2012-10-05\n",
       "11       2012-10-17\n",
       "12       2012-01-24\n",
       "13       2011-09-27\n",
       "14       2011-10-31\n",
       "15       2012-03-28\n",
       "16       2012-04-17\n",
       "17       2011-07-11\n",
       "18       2012-02-27\n",
       "19       2012-05-08\n",
       "20       2011-07-23\n",
       "21       2012-07-05\n",
       "22       2012-04-02\n",
       "23       2012-07-23\n",
       "24       2012-01-13\n",
       "25       2012-07-09\n",
       "26       2012-01-20\n",
       "27       2012-04-25\n",
       "28       2012-04-26\n",
       "29       2011-08-31\n",
       "            ...    \n",
       "33335    2018-05-16\n",
       "33336    2018-11-23\n",
       "33337    2012-07-31\n",
       "33338    2011-11-11\n",
       "33339    2012-08-24\n",
       "33340    2012-05-23\n",
       "33341    2012-05-10\n",
       "33342    2014-03-04\n",
       "33343    2013-09-19\n",
       "33344    2013-08-20\n",
       "33345    2013-02-13\n",
       "33346    2013-03-29\n",
       "33347    2013-04-10\n",
       "33348    2014-04-09\n",
       "33349    2014-07-23\n",
       "33350    2013-12-09\n",
       "33351    2014-01-28\n",
       "33352    2013-11-19\n",
       "33353    2014-06-09\n",
       "33354    2014-07-19\n",
       "33355    2014-09-26\n",
       "33356    2015-02-10\n",
       "33357    2014-12-02\n",
       "33358    2015-06-26\n",
       "33359    2016-02-26\n",
       "33360    2016-04-04\n",
       "33361    2016-07-27\n",
       "33362    2017-02-23\n",
       "33363    2017-01-12\n",
       "33364    2017-09-29\n",
       "Name: DATE_FIRST_EXT, Length: 33365, dtype: object"
      ]
     },
     "execution_count": 5,
     "metadata": {},
     "output_type": "execute_result"
    }
   ],
   "source": [
    "# Load the data\n",
    "df = pd.read_csv('data/declarations-exterminations-punaises-de-lit-2.csv')\n",
    "#df['date'] = pd.to_datetime(df['date'])\n",
    "#df\n",
    "\n",
    "df['DATE_DECLARATION'] = pd.to_datetime(df['DATE_DECLARATION'])\n",
    "df['DATE_PRIOR_INSP'] = pd.to_datetime(df['DATE_PRIOR_INSP'])\n",
    "\n",
    "df['DATE_FIRST_EXT'] = df['DATE_FIRST_EXT'].fillna(df['DATE_DECLARATION'].dt.date)\n",
    "df['DATE_FIRST_EXT']"
   ]
  },
  {
   "cell_type": "code",
   "execution_count": 39,
   "metadata": {},
   "outputs": [
    {
     "name": "stdout",
     "output_type": "stream",
     "text": [
      "0        38.00\n",
      "1        65.00\n",
      "2         7.00\n",
      "3         1.00\n",
      "4        40.00\n",
      "5        30.00\n",
      "6         4.00\n",
      "7         3.00\n",
      "8         6.00\n",
      "9         1.00\n",
      "10       24.00\n",
      "11        2.00\n",
      "12        1.00\n",
      "13        4.00\n",
      "14       38.00\n",
      "15        6.00\n",
      "16       31.00\n",
      "17        1.00\n",
      "18        2.00\n",
      "19        4.00\n",
      "20       21.00\n",
      "21        2.00\n",
      "22        2.00\n",
      "23        1.00\n",
      "24        2.00\n",
      "25       39.00\n",
      "26       26.00\n",
      "27        1.00\n",
      "28        5.00\n",
      "29        2.00\n",
      "         ...  \n",
      "33335    73.00\n",
      "33336     6.00\n",
      "33337     4.00\n",
      "33338    41.00\n",
      "33339   104.00\n",
      "33340    10.00\n",
      "33341     2.00\n",
      "33342     7.00\n",
      "33343     5.00\n",
      "33344     4.00\n",
      "33345     5.00\n",
      "33346     7.00\n",
      "33347    20.00\n",
      "33348     5.00\n",
      "33349    49.00\n",
      "33350     8.00\n",
      "33351    24.00\n",
      "33352    32.00\n",
      "33353     1.00\n",
      "33354    26.00\n",
      "33355     4.00\n",
      "33356    13.00\n",
      "33357    13.00\n",
      "33358     6.00\n",
      "33359     3.00\n",
      "33360    10.00\n",
      "33361    21.00\n",
      "33362    13.00\n",
      "33363     6.00\n",
      "33364     4.00\n",
      "Name: DATE_DIFF, Length: 33365, dtype: float64\n",
      "NO_DECLARATION               int64\n",
      "DATE_DECLARATION    datetime64[ns]\n",
      "DATE_PRIOR_INSP     datetime64[ns]\n",
      "EXT_FREQ                   float64\n",
      "DATE_FIRST_EXT              object\n",
      "DATE_LAST_EXT               object\n",
      "HOOD_NUM                    object\n",
      "HOOD_NAME                   object\n",
      "BORO_NAME                   object\n",
      "MTM8_X                     float64\n",
      "MTM8_Y                     float64\n",
      "LONGITUDE                  float64\n",
      "LATITUDE                   float64\n",
      "DATE_DIFF                  float64\n",
      "DEC_MONTH                    int64\n",
      "DEC_ISSUE                    int64\n",
      "MTMXY                       object\n",
      "LONLAT                      object\n",
      "dtype: object\n",
      "NO_DECLARATION         0\n",
      "DATE_DECLARATION       0\n",
      "DATE_PRIOR_INSP        8\n",
      "EXT_FREQ               0\n",
      "DATE_FIRST_EXT      2124\n",
      "DATE_LAST_EXT       2124\n",
      "HOOD_NUM               0\n",
      "HOOD_NAME              0\n",
      "BORO_NAME              0\n",
      "MTM8_X                 0\n",
      "MTM8_Y                 0\n",
      "LONGITUDE              0\n",
      "LATITUDE               0\n",
      "DATE_DIFF              0\n",
      "DEC_MONTH              0\n",
      "DEC_ISSUE              0\n",
      "MTMXY                  0\n",
      "LONLAT                 0\n",
      "dtype: int64\n",
      "Bed Bugs\n",
      "Index(['NO_DECLARATION ', 'DATE_DECLARATION', 'DATE_PRIOR_INSP', 'EXT_FREQ',\n",
      "       'DATE_FIRST_EXT', 'DATE_LAST_EXT', 'HOOD_NUM', 'HOOD_NAME', 'BORO_NAME',\n",
      "       'MTM8_X', 'MTM8_Y', 'LONGITUDE', 'LATITUDE', 'DATE_DIFF', 'DEC_MONTH',\n",
      "       'DEC_ISSUE', 'MTMXY', 'LONLAT'],\n",
      "      dtype='object')\n",
      "   NO_DECLARATION     DATE_DECLARATION DATE_PRIOR_INSP  EXT_FREQ  \\\n",
      "0             4254 2012-10-28 16:36:04      2012-09-21      1.00   \n",
      "1              830 2011-09-16 09:45:58      2011-07-13      1.00   \n",
      "2             1380 2011-11-08 14:01:04      2011-11-02      1.00   \n",
      "3              455 2011-08-10 09:53:47      2011-08-09      1.00   \n",
      "4             1243 2011-10-26 10:11:32      2011-09-16      1.00   \n",
      "\n",
      "  DATE_FIRST_EXT DATE_LAST_EXT HOOD_NUM      HOOD_NAME  \\\n",
      "0     2012-09-21    2012-09-21       24     Beaurivage   \n",
      "1     2011-07-27    2011-08-17       50    Saint-Henri   \n",
      "2     2011-11-07    2011-11-21       30   Sainte-Marie   \n",
      "3     2011-08-09    2011-08-09       44  Upper Lachine   \n",
      "4     2011-10-05    2011-10-05       19    Petite-Côte   \n",
      "\n",
      "                             BORO_NAME    MTM8_X     MTM8_Y  LONGITUDE  \\\n",
      "0        Mercier–Hochelaga-Maisonneuve 303753.60 5049835.70     -73.51   \n",
      "1                         Le Sud-Ouest 298119.80 5036963.70     -73.59   \n",
      "2                          Ville-Marie 300294.90 5042372.10     -73.56   \n",
      "3  Côte-des-Neiges–Notre-Dame-de-Grâce 296046.90 5036494.90     -73.61   \n",
      "4            Rosemont–La Petite-Patrie 299524.20 5045639.90     -73.57   \n",
      "\n",
      "   LATITUDE  DATE_DIFF  DEC_MONTH  DEC_ISSUE                MTMXY  \\\n",
      "0     45.59      38.00         10          1  303753.6, 5049835.7   \n",
      "1     45.47      65.00          9          1  298119.8, 5036963.7   \n",
      "2     45.52       7.00         11          1  300294.9, 5042372.1   \n",
      "3     45.47       1.00          8          1  296046.9, 5036494.9   \n",
      "4     45.55      40.00         10          1  299524.2, 5045639.9   \n",
      "\n",
      "                          LONLAT  \n",
      "0          -73.513411, 45.588426  \n",
      "1          -73.585437, 45.472569  \n",
      "2          -73.557668, 45.521253  \n",
      "3          -73.611941, 45.468327  \n",
      "4  -73.56756899999999, 45.550652  \n",
      "       NO_DECLARATION   EXT_FREQ    MTM8_X     MTM8_Y  LONGITUDE  LATITUDE  \\\n",
      "count         33365.00  33365.00  33365.00   33365.00   33365.00  33365.00   \n",
      "mean          17119.47      1.46 297055.28 5044088.86     -73.60     45.54   \n",
      "std            9819.57      0.89   3664.67    4756.57       0.05      0.04   \n",
      "min             104.00      1.00 274266.10 5030733.00     -73.89     45.42   \n",
      "25%            8602.00      1.00 294841.50 5041950.60     -73.63     45.52   \n",
      "50%           17099.00      1.00 297627.30 5044129.10     -73.59     45.54   \n",
      "75%           25632.00      2.00 299638.40 5046434.50     -73.57     45.56   \n",
      "max           34130.00      4.00 306021.80 5062070.20     -73.48     45.70   \n",
      "\n",
      "       DATE_DIFF  DEC_MONTH  DEC_ISSUE  \n",
      "count   33365.00   33365.00   33365.00  \n",
      "mean       37.95       7.13       1.00  \n",
      "std        78.69       3.33       0.00  \n",
      "min      -347.00       1.00       1.00  \n",
      "25%         6.00       4.00       1.00  \n",
      "50%        16.00       8.00       1.00  \n",
      "75%        40.00      10.00       1.00  \n",
      "max      3738.00      12.00       1.00  \n",
      "Rosemont–La Petite-Patrie                   4320\n",
      "Villeray–Saint-Michel–Parc-Extension        4304\n",
      "Mercier–Hochelaga-Maisonneuve               4036\n",
      "Le Plateau-Mont-Royal                       3696\n",
      "Ville-Marie                                 3347\n",
      "Côte-des-Neiges–Notre-Dame-de-Grâce         2909\n",
      "Ahuntsic-Cartierville                       2695\n",
      "Montréal-Nord                               1754\n",
      "Le Sud-Ouest                                1251\n",
      "Saint-Laurent                               1116\n",
      "Saint-Léonard                                994\n",
      "Verdun                                       782\n",
      "Rivière-des-Prairies–Pointe-aux-Trembles     695\n",
      "LaSalle                                      521\n",
      "Lachine                                      361\n",
      "Anjou                                        304\n",
      "Outremont                                    145\n",
      "Pierrefonds-Roxboro                          117\n",
      "L'Île-Bizard–Sainte-Geneviève                 18\n",
      "Name: BORO_NAME, dtype: int64\n",
      "max: 4320\n",
      "min: 18\n",
      "sum: 33365\n",
      "mean: 1756.0526315789473\n",
      "mean: 1756.05\n",
      "std: 1521.2930951793749\n",
      "std: 1521.29\n",
      "median: 1116.0\n",
      "count: 19\n",
      "Corr:                  NO_DECLARATION   EXT_FREQ  MTM8_X  MTM8_Y  LONGITUDE  \\\n",
      "NO_DECLARATION              1.00     -0.05   -0.05   -0.00      -0.05   \n",
      "EXT_FREQ                   -0.05      1.00    0.02    0.01       0.02   \n",
      "MTM8_X                     -0.05      0.02    1.00    0.22       1.00   \n",
      "MTM8_Y                     -0.00      0.01    0.22    1.00       0.22   \n",
      "LONGITUDE                  -0.05      0.02    1.00    0.22       1.00   \n",
      "LATITUDE                   -0.00      0.01    0.22    1.00       0.22   \n",
      "DATE_DIFF                   0.11     -0.03   -0.07    0.01      -0.07   \n",
      "DEC_MONTH                   0.08     -0.05   -0.00    0.02      -0.00   \n",
      "DEC_ISSUE                    nan       nan     nan     nan        nan   \n",
      "\n",
      "                 LATITUDE  DATE_DIFF  DEC_MONTH  DEC_ISSUE  \n",
      "NO_DECLARATION      -0.00       0.11       0.08        nan  \n",
      "EXT_FREQ             0.01      -0.03      -0.05        nan  \n",
      "MTM8_X               0.22      -0.07      -0.00        nan  \n",
      "MTM8_Y               1.00       0.01       0.02        nan  \n",
      "LONGITUDE            0.22      -0.07      -0.00        nan  \n",
      "LATITUDE             1.00       0.01       0.02        nan  \n",
      "DATE_DIFF            0.01       1.00       0.05        nan  \n",
      "DEC_MONTH            0.02       0.05       1.00        nan  \n",
      "DEC_ISSUE             nan        nan        nan        nan  \n"
     ]
    }
   ],
   "source": [
    "# Load the data\n",
    "df = pd.read_csv('data/declarations-exterminations-punaises-de-lit-2.csv')\n",
    "#df['date'] = pd.to_datetime(df['date'])\n",
    "#df\n",
    "\n",
    "df['DATE_DECLARATION'] = pd.to_datetime(df['DATE_DECLARATION'])\n",
    "df['DATE_PRIOR_INSP'] = pd.to_datetime(df['DATE_PRIOR_INSP'])\n",
    "\n",
    "# Create difference between Declaration and Inspection\n",
    "df['DATE_DIFF'] = round((df['DATE_DECLARATION'] - df['DATE_PRIOR_INSP'])/np.timedelta64(1,'D'))\n",
    "df['DATE_DIFF'].fillna(0, inplace=True)\n",
    "\n",
    "# Create a column extracting month\n",
    "df['DEC_MONTH'] = pd.DatetimeIndex(df['DATE_DECLARATION']).month\n",
    "\n",
    "# Create Declared Incidents column for regression purposes\n",
    "df['DEC_ISSUE'] = 1\n",
    "\n",
    "# Populate blank values in EXT_FREQ \n",
    "df['EXT_FREQ'].fillna(1, inplace=True)\n",
    "\n",
    "# Concatenate MTM8_X and MTM8_Y\n",
    "#https://stackoverflow.com/questions/42520266/concatenating-two-floats-into-one-column-in-pandas\n",
    "df['MTMXY'] = [', '.join(str(x) for x in y) for y in map(tuple, df[['MTM8_X', 'MTM8_Y']].values)]\n",
    "\n",
    "df['LONLAT'] = [', '.join(str(x) for x in y) for y in map(tuple, df[['LONGITUDE', 'LATITUDE']].values)]\n",
    "\n",
    "\n",
    "################################################\n",
    "# Last section to work on.  Then can proceed to generate regression or whatever else you would like to do.\n",
    "\n",
    "# Populate blanks with DATE_DECLARATION date and not time\n",
    "# Cannot get the Nans to be replaced with Date without the time\n",
    "df['DATE_FIRST_EXT'].replace(np.nan, df['DATE_DECLARATION'].dt.date)\n",
    "\n",
    "\n",
    "#df['DATE_FIRST_EXT'].fillna(df['DATE_DECLARATION'].dt.date)\n",
    "\n",
    "#print('here ' + str(df['DATE_DECLARATION'].dt.date))\n",
    "#print(df['DATE_DECLARATION'].dt.date)\n",
    "\n",
    "# Not replacing the NAN fields\n",
    "#df['DATE_FIRST_EXT'].fillna(pd.to_datetime(df['DATE_DECLARATION']).date(), inplace=True)\n",
    "\n",
    "#df['DATE_FIRST_EXT'].fillna(df['DATE_DECLARATION'], inplace=True)\n",
    "#pd.to_datetime(df['DATE_DECLARATION']).date()\n",
    "#df['DATE_FIRST_EXT'].fillna(pd.to_datetime(df['DATE_DECLARATION']).date(), inplace=True)\n",
    "#print(pd.to_datetime(df['DATE_DECLARATION']).date())\n",
    "#pd.DatetimeIndex(df['DATE_DECLARATION']).year + '-' + pd.DatetimeIndex(df['DATE_DECLARATION']).month + '-' + pd.DatetimeIndex(df['DATE_DECLARATION']).day\n",
    "\n",
    "\n",
    "print(df['DATE_DIFF'])\n",
    "#print(df['DATE_FIRST_EXT'])\n",
    "\n",
    "\n",
    "\n",
    "# To be populated by the difference of the 2 fields afterwhich we can perform regression testing\n",
    "# on fields DATE_DEC_FIRST, DECLARED, DATE_DIFF, EXT_FREQ\n",
    "#df['DATE_DEC_FIRST'] = round((df['DATE_DECLARATION'] - df['DATE_FIRST_EXT'])/np.timedelta64(1,'D'))\n",
    "####################################################\n",
    "\n",
    "\n",
    "\n",
    "print(df.dtypes)\n",
    "# Check for null values\n",
    "print(df.isnull().sum())\n",
    "\n",
    "#print(df.shape)\n",
    "\n",
    "print('Bed Bugs')\n",
    "print(df.columns)\n",
    "print(df.head())\n",
    "print(df.describe())\n",
    "\n",
    "print(df['BORO_NAME'].value_counts())\n",
    "print('max:',np.max(df['BORO_NAME'].value_counts()))\n",
    "print('min:',np.min(df['BORO_NAME'].value_counts()))\n",
    "print('sum:',np.sum(df['BORO_NAME'].value_counts()))\n",
    "print('mean:',np.mean(df['BORO_NAME'].value_counts()))\n",
    "print('mean:',np.round(np.mean(df['BORO_NAME'].value_counts()),2))\n",
    "print('std:',np.std(df['BORO_NAME'].value_counts()))\n",
    "print('std:',np.round(np.std(df['BORO_NAME'].value_counts()),2))\n",
    "print('median:',np.median(df['BORO_NAME'].value_counts()))\n",
    "print ('count:',df['BORO_NAME'].value_counts().count())\n",
    "\n",
    "print('Corr:',df.corr())\n"
   ]
  },
  {
   "cell_type": "code",
   "execution_count": 21,
   "metadata": {},
   "outputs": [
    {
     "data": {
      "text/html": [
       "<div>\n",
       "<style scoped>\n",
       "    .dataframe tbody tr th:only-of-type {\n",
       "        vertical-align: middle;\n",
       "    }\n",
       "\n",
       "    .dataframe tbody tr th {\n",
       "        vertical-align: top;\n",
       "    }\n",
       "\n",
       "    .dataframe thead th {\n",
       "        text-align: right;\n",
       "    }\n",
       "</style>\n",
       "<table border=\"1\" class=\"dataframe\">\n",
       "  <thead>\n",
       "    <tr style=\"text-align: right;\">\n",
       "      <th></th>\n",
       "      <th>Col1</th>\n",
       "      <th>Col2</th>\n",
       "    </tr>\n",
       "  </thead>\n",
       "  <tbody>\n",
       "    <tr>\n",
       "      <th>0</th>\n",
       "      <td>Rosemont–La Petite-Patrie</td>\n",
       "      <td>4320</td>\n",
       "    </tr>\n",
       "    <tr>\n",
       "      <th>1</th>\n",
       "      <td>Villeray–Saint-Michel–Parc-Extension</td>\n",
       "      <td>4304</td>\n",
       "    </tr>\n",
       "    <tr>\n",
       "      <th>2</th>\n",
       "      <td>Mercier–Hochelaga-Maisonneuve</td>\n",
       "      <td>4036</td>\n",
       "    </tr>\n",
       "    <tr>\n",
       "      <th>3</th>\n",
       "      <td>Le Plateau-Mont-Royal</td>\n",
       "      <td>3696</td>\n",
       "    </tr>\n",
       "    <tr>\n",
       "      <th>4</th>\n",
       "      <td>Ville-Marie</td>\n",
       "      <td>3347</td>\n",
       "    </tr>\n",
       "    <tr>\n",
       "      <th>5</th>\n",
       "      <td>Côte-des-Neiges–Notre-Dame-de-Grâce</td>\n",
       "      <td>2909</td>\n",
       "    </tr>\n",
       "    <tr>\n",
       "      <th>6</th>\n",
       "      <td>Ahuntsic-Cartierville</td>\n",
       "      <td>2695</td>\n",
       "    </tr>\n",
       "    <tr>\n",
       "      <th>7</th>\n",
       "      <td>Montréal-Nord</td>\n",
       "      <td>1754</td>\n",
       "    </tr>\n",
       "    <tr>\n",
       "      <th>8</th>\n",
       "      <td>Le Sud-Ouest</td>\n",
       "      <td>1251</td>\n",
       "    </tr>\n",
       "    <tr>\n",
       "      <th>9</th>\n",
       "      <td>Saint-Laurent</td>\n",
       "      <td>1116</td>\n",
       "    </tr>\n",
       "    <tr>\n",
       "      <th>10</th>\n",
       "      <td>Saint-Léonard</td>\n",
       "      <td>994</td>\n",
       "    </tr>\n",
       "    <tr>\n",
       "      <th>11</th>\n",
       "      <td>Verdun</td>\n",
       "      <td>782</td>\n",
       "    </tr>\n",
       "    <tr>\n",
       "      <th>12</th>\n",
       "      <td>Rivière-des-Prairies–Pointe-aux-Trembles</td>\n",
       "      <td>695</td>\n",
       "    </tr>\n",
       "    <tr>\n",
       "      <th>13</th>\n",
       "      <td>LaSalle</td>\n",
       "      <td>521</td>\n",
       "    </tr>\n",
       "    <tr>\n",
       "      <th>14</th>\n",
       "      <td>Lachine</td>\n",
       "      <td>361</td>\n",
       "    </tr>\n",
       "    <tr>\n",
       "      <th>15</th>\n",
       "      <td>Anjou</td>\n",
       "      <td>304</td>\n",
       "    </tr>\n",
       "    <tr>\n",
       "      <th>16</th>\n",
       "      <td>Outremont</td>\n",
       "      <td>145</td>\n",
       "    </tr>\n",
       "    <tr>\n",
       "      <th>17</th>\n",
       "      <td>Pierrefonds-Roxboro</td>\n",
       "      <td>117</td>\n",
       "    </tr>\n",
       "    <tr>\n",
       "      <th>18</th>\n",
       "      <td>L'Île-Bizard–Sainte-Geneviève</td>\n",
       "      <td>18</td>\n",
       "    </tr>\n",
       "  </tbody>\n",
       "</table>\n",
       "</div>"
      ],
      "text/plain": [
       "                                        Col1  Col2\n",
       "0                  Rosemont–La Petite-Patrie  4320\n",
       "1       Villeray–Saint-Michel–Parc-Extension  4304\n",
       "2              Mercier–Hochelaga-Maisonneuve  4036\n",
       "3                      Le Plateau-Mont-Royal  3696\n",
       "4                                Ville-Marie  3347\n",
       "5        Côte-des-Neiges–Notre-Dame-de-Grâce  2909\n",
       "6                      Ahuntsic-Cartierville  2695\n",
       "7                              Montréal-Nord  1754\n",
       "8                               Le Sud-Ouest  1251\n",
       "9                              Saint-Laurent  1116\n",
       "10                             Saint-Léonard   994\n",
       "11                                    Verdun   782\n",
       "12  Rivière-des-Prairies–Pointe-aux-Trembles   695\n",
       "13                                   LaSalle   521\n",
       "14                                   Lachine   361\n",
       "15                                     Anjou   304\n",
       "16                                 Outremont   145\n",
       "17                       Pierrefonds-Roxboro   117\n",
       "18             L'Île-Bizard–Sainte-Geneviève    18"
      ]
     },
     "execution_count": 21,
     "metadata": {},
     "output_type": "execute_result"
    }
   ],
   "source": [
    "df_count = pd.DataFrame(df['BORO_NAME'].value_counts()).reset_index()\n",
    "df_count.columns = ['Col1', 'Col2']\n",
    "df_count"
   ]
  },
  {
   "cell_type": "code",
   "execution_count": null,
   "metadata": {},
   "outputs": [],
   "source": []
  },
  {
   "cell_type": "markdown",
   "metadata": {},
   "source": [
    "## Data Perspective\n",
    "- One variable\n",
    "    - Numeric variables\n",
    "        - continuous: average income\n",
    "        - discrete: population\n",
    "    - Categorical variables\n",
    "        - ordinal: grade\n",
    "        - nominal: house, apartment, townhouse, etc.\n",
    "- Multiple variables\n",
    "    - Numeric x Numeric\n",
    "    - Categorical x Numeric\n",
    "    - Categorical x Categorical"
   ]
  },
  {
   "cell_type": "markdown",
   "metadata": {},
   "source": [
    "## One Variable (numeric)"
   ]
  },
  {
   "cell_type": "code",
   "execution_count": 40,
   "metadata": {},
   "outputs": [
    {
     "name": "stdout",
     "output_type": "stream",
     "text": [
      "count   33365.00\n",
      "mean       38.00\n",
      "std        79.00\n",
      "min      -347.00\n",
      "25%         6.00\n",
      "50%        16.00\n",
      "75%        40.00\n",
      "max      3738.00\n",
      "Name: DATE_DIFF, dtype: float64\n"
     ]
    },
    {
     "data": {
      "image/png": "[encoded data removed]",
      "text/plain": [
       "<Figure size 432x288 with 1 Axes>"
      ]
     },
     "metadata": {},
     "output_type": "display_data"
    }
   ],
   "source": [
    "# Analyzing number of days between declaration and inspection\n",
    "\n",
    "# Histogram\n",
    "print(df['DATE_DIFF'].describe().round())\n",
    "plt.hist(df['DATE_DIFF'], bins=50)\n",
    "plt.show()\n",
    "\n",
    "# Box plot\n",
    "#plt.boxplot(df['DEC_ISSUE'])\n",
    "#plt.xticks([1], df['DEC_ISSUE'], rotation='horizontal')\n",
    "#plt.show()"
   ]
  },
  {
   "cell_type": "code",
   "execution_count": 19,
   "metadata": {},
   "outputs": [],
   "source": [
    "#TODO: Analyze all the numerical variables"
   ]
  },
  {
   "cell_type": "markdown",
   "metadata": {},
   "source": [
    "## One Variable (categorical)"
   ]
  },
  {
   "cell_type": "code",
   "execution_count": 6,
   "metadata": {},
   "outputs": [
    {
     "name": "stdout",
     "output_type": "stream",
     "text": [
      "Rosemont–La Petite-Patrie               4320\n",
      "Villeray–Saint-Michel–Parc-Extension    4304\n",
      "Mercier–Hochelaga-Maisonneuve           4036\n",
      "Le Plateau-Mont-Royal                   3696\n",
      "Ville-Marie                             3347\n",
      "Côte-des-Neiges–Notre-Dame-de-Grâce     2909\n",
      "Ahuntsic-Cartierville                   2695\n",
      "Montréal-Nord                           1754\n",
      "Le Sud-Ouest                            1251\n",
      "Saint-Laurent                           1116\n",
      "Name: BORO_NAME, dtype: int64\n"
     ]
    },
    {
     "data": {
      "image/png": "[encoded data removed]",
      "text/plain": [
       "<Figure size 864x432 with 1 Axes>"
      ]
     },
     "metadata": {},
     "output_type": "display_data"
    }
   ],
   "source": [
    "# Analyze by borough distribution\n",
    "print(df['BORO_NAME'].value_counts().head(10))\n",
    "\n",
    "# Bar Chart\n",
    "plt.figure(figsize=(12,6))\n",
    "plt.title('Top 10 Boroughs By Declaration')\n",
    "plt.xlabel('Boroughs')\n",
    "plt.ylabel('Declarations')\n",
    "\n",
    "labels = df['BORO_NAME'].value_counts().head(10).index\n",
    "values = df['BORO_NAME'].value_counts().head(10).values\n",
    "\n",
    "y_pos = range(len(labels))\n",
    "plt.bar(y_pos, values, align='center', alpha=0.5)\n",
    "plt.xticks(y_pos, labels)\n",
    "plt.xticks(rotation=90)\n",
    "plt.show()"
   ]
  },
  {
   "cell_type": "code",
   "execution_count": 21,
   "metadata": {},
   "outputs": [],
   "source": [
    "#TODO: Analyze all the categorical variables"
   ]
  },
  {
   "cell_type": "code",
   "execution_count": 42,
   "metadata": {},
   "outputs": [
    {
     "name": "stdout",
     "output_type": "stream",
     "text": [
      "Saint-Laurent                               1116\n",
      "Saint-Léonard                                994\n",
      "Verdun                                       782\n",
      "Rivière-des-Prairies–Pointe-aux-Trembles     695\n",
      "LaSalle                                      521\n",
      "Lachine                                      361\n",
      "Anjou                                        304\n",
      "Outremont                                    145\n",
      "Pierrefonds-Roxboro                          117\n",
      "L'Île-Bizard–Sainte-Geneviève                 18\n",
      "Name: BORO_NAME, dtype: int64\n"
     ]
    },
    {
     "data": {
      "image/png": "[encoded data removed]",
      "text/plain": [
       "<Figure size 864x432 with 1 Axes>"
      ]
     },
     "metadata": {},
     "output_type": "display_data"
    }
   ],
   "source": [
    "# Analyze borough distribution\n",
    "print(df['BORO_NAME'].value_counts().tail(10))\n",
    "\n",
    "# Bar Chart\n",
    "plt.figure(figsize=(12,6))\n",
    "plt.title('Bottom 10 Boroughs By Declaration')\n",
    "plt.xlabel('Boroughs')\n",
    "plt.ylabel('Declarations')\n",
    "\n",
    "labels = df['BORO_NAME'].value_counts().tail(10).index\n",
    "values = df['BORO_NAME'].value_counts().tail(10).values\n",
    "\n",
    "y_pos = range(len(labels))\n",
    "plt.bar(y_pos, values, align='center', alpha=0.5)\n",
    "plt.xticks(y_pos, labels)\n",
    "plt.show()"
   ]
  },
  {
   "cell_type": "code",
   "execution_count": 43,
   "metadata": {},
   "outputs": [
    {
     "name": "stdout",
     "output_type": "stream",
     "text": [
      "Sainte-Marie      1730\n",
      "Crémazie          1205\n",
      "Parc-Extension    1171\n",
      "Maisonneuve       1150\n",
      "Lorimier           964\n",
      "Vieux-Rosemont     938\n",
      "Est                866\n",
      "Père-Marquette     800\n",
      "Cartierville       793\n",
      "Montagne           792\n",
      "Name: HOOD_NAME, dtype: int64\n"
     ]
    },
    {
     "data": {
      "image/png": "[encoded data removed]",
      "text/plain": [
       "<Figure size 864x432 with 1 Axes>"
      ]
     },
     "metadata": {},
     "output_type": "display_data"
    }
   ],
   "source": [
    "# Analyze Neighborhood distribution\n",
    "print(df['HOOD_NAME'].value_counts().head(10))\n",
    "\n",
    "# Bar Chart\n",
    "plt.figure(figsize=(12,6))\n",
    "plt.title('Top 10 Neighborhoods By Declaration')\n",
    "plt.xlabel('Neighborhoods')\n",
    "plt.ylabel('Declarations')\n",
    "\n",
    "labels = df['HOOD_NAME'].value_counts().head(10).index\n",
    "values = df['HOOD_NAME'].value_counts().head(10).values\n",
    "\n",
    "y_pos = range(len(labels))\n",
    "plt.bar(y_pos, values, align='center', alpha=0.5)\n",
    "plt.xticks(y_pos, labels)\n",
    "plt.show()"
   ]
  },
  {
   "cell_type": "code",
   "execution_count": 44,
   "metadata": {},
   "outputs": [
    {
     "name": "stdout",
     "output_type": "stream",
     "text": [
      "Ville-Émard                      89\n",
      "Du College/Hodge                 79\n",
      "Lachine-Ouest                    76\n",
      "Dutrisac                         65\n",
      "Guybourg                         64\n",
      "Bois-Francs                      48\n",
      "Rivière-des-Prairies             29\n",
      "Ile-des-Soeurs                   21\n",
      "Pierrefonds-Ouest                21\n",
      "L'Île-Bizard–Sainte-Geneviève    18\n",
      "Name: HOOD_NAME, dtype: int64\n"
     ]
    },
    {
     "data": {
      "image/png": "[encoded data removed]",
      "text/plain": [
       "<Figure size 864x432 with 1 Axes>"
      ]
     },
     "metadata": {},
     "output_type": "display_data"
    }
   ],
   "source": [
    "# Analyze Neighborhood distribution\n",
    "print(df['HOOD_NAME'].value_counts().tail(10))\n",
    "\n",
    "# Bar Chart\n",
    "plt.figure(figsize=(12,6))\n",
    "plt.title('Bottom 10 Neighborhoods By Declaration')\n",
    "plt.xlabel('Neighborhoods')\n",
    "plt.ylabel('Declarations')\n",
    "\n",
    "labels = df['HOOD_NAME'].value_counts().tail(10).index\n",
    "values = df['HOOD_NAME'].value_counts().tail(10).values\n",
    "\n",
    "y_pos = range(len(labels))\n",
    "plt.bar(y_pos, values, align='center', alpha=0.5)\n",
    "plt.xticks(y_pos, labels)\n",
    "plt.show()"
   ]
  },
  {
   "cell_type": "code",
   "execution_count": 45,
   "metadata": {},
   "outputs": [
    {
     "name": "stdout",
     "output_type": "stream",
     "text": [
      "10    4022\n",
      "9     3671\n",
      "11    3379\n",
      "7     3217\n",
      "8     3202\n",
      "12    2703\n",
      "6     2552\n",
      "2     2264\n",
      "3     2186\n",
      "5     2069\n",
      "4     2069\n",
      "1     2031\n",
      "Name: DEC_MONTH, dtype: int64\n"
     ]
    },
    {
     "data": {
      "image/png": "[encoded data removed]",
      "text/plain": [
       "<Figure size 864x432 with 1 Axes>"
      ]
     },
     "metadata": {},
     "output_type": "display_data"
    }
   ],
   "source": [
    "# Analyze Months distribution from declaration\n",
    "print(df['DEC_MONTH'].value_counts().head(12))\n",
    "\n",
    "# Bar Chart\n",
    "plt.figure(figsize=(12,6))\n",
    "plt.title('Declarations by Month')\n",
    "plt.xlabel('Month')\n",
    "plt.ylabel('Declarations')\n",
    "\n",
    "labels = df['DEC_MONTH'].value_counts().head(12).index\n",
    "values = df['DEC_MONTH'].value_counts().head(12).values\n",
    "\n",
    "y_pos = range(len(labels))\n",
    "plt.bar(y_pos, values, align='center', alpha=0.5)\n",
    "plt.xticks(y_pos, labels)\n",
    "plt.show()"
   ]
  },
  {
   "cell_type": "code",
   "execution_count": 46,
   "metadata": {},
   "outputs": [
    {
     "name": "stdout",
     "output_type": "stream",
     "text": [
      "299241.0, 5049383.8    264\n",
      "292371.2, 5047691.7    181\n",
      "295384.6, 5045734.1    151\n",
      "298344.7, 5039355.2    148\n",
      "290179.3, 5042045.3    139\n",
      "298513.6, 5039213.5    136\n",
      "296512.2, 5032054.7    116\n",
      "299828.1, 5043212.2    114\n",
      "296610.3, 5049394.6    107\n",
      "294324.9, 5040511.5    101\n",
      "296445.3, 5049181.5    100\n",
      "296756.9, 5049177.3     96\n",
      "Name: MTMXY, dtype: int64\n"
     ]
    },
    {
     "data": {
      "image/png": "[encoded data removed]",
      "text/plain": [
       "<Figure size 864x432 with 1 Axes>"
      ]
     },
     "metadata": {},
     "output_type": "display_data"
    }
   ],
   "source": [
    "\n",
    "# Analyze Coordinates distribution from declaration\n",
    "print(df['MTMXY'].value_counts().head(12))\n",
    "\n",
    "# Bar Chart\n",
    "plt.figure(figsize=(12,6))\n",
    "plt.title('Declarations by Coordinates')\n",
    "plt.xlabel('Coordinates')\n",
    "plt.ylabel('Declarations')\n",
    "\n",
    "labels = df['MTMXY'].value_counts().head(10).index\n",
    "values = df['MTMXY'].value_counts().head(10).values\n",
    "\n",
    "y_pos = range(len(labels))\n",
    "plt.bar(y_pos, values, align='center', alpha=0.5)\n",
    "plt.xticks(y_pos, labels)\n",
    "plt.show()\n"
   ]
  },
  {
   "cell_type": "code",
   "execution_count": 47,
   "metadata": {},
   "outputs": [
    {
     "name": "stdout",
     "output_type": "stream",
     "text": [
      "-73.571239, 45.584338                     264\n",
      "-73.659233, 45.569024                     181\n",
      "-73.620588, 45.551456                     151\n",
      "-73.582592, 45.49409                      148\n",
      "-73.68714399999999, 45.518173             139\n",
      "-73.58043, 45.492816999999995             136\n",
      "-73.60591600000001, 45.428377000000005    116\n",
      "-73.563652, 45.528809                     114\n",
      "-73.604952, 45.58441                      107\n",
      "-73.634049, 45.504446                     101\n",
      "-73.607061, 45.58249                      100\n",
      "-73.60306800000001, 45.582456              96\n",
      "Name: LONLAT, dtype: int64\n"
     ]
    },
    {
     "data": {
      "image/png": "[encoded data removed]",
      "text/plain": [
       "<Figure size 864x432 with 1 Axes>"
      ]
     },
     "metadata": {},
     "output_type": "display_data"
    }
   ],
   "source": [
    "\n",
    "# Analyze Coordinates distribution from declaration\n",
    "print(df['LONLAT'].value_counts().head(12))\n",
    "\n",
    "# Bar Chart\n",
    "plt.figure(figsize=(12,6))\n",
    "plt.title('Declarations by LON_LAT')\n",
    "plt.xlabel('Coordinates')\n",
    "plt.ylabel('Declarations')\n",
    "\n",
    "labels = df['LONLAT'].value_counts().head(10).index\n",
    "values = df['LONLAT'].value_counts().head(10).values\n",
    "\n",
    "y_pos = range(len(labels))\n",
    "plt.bar(y_pos, values, align='center', alpha=0.5)\n",
    "plt.xticks(y_pos, labels)\n",
    "plt.show()\n"
   ]
  },
  {
   "cell_type": "markdown",
   "metadata": {},
   "source": [
    "## Multiple variables (Numeric x Numeric)"
   ]
  },
  {
   "cell_type": "code",
   "execution_count": 48,
   "metadata": {},
   "outputs": [
    {
     "data": {
      "text/html": [
       "<div>\n",
       "<style scoped>\n",
       "    .dataframe tbody tr th:only-of-type {\n",
       "        vertical-align: middle;\n",
       "    }\n",
       "\n",
       "    .dataframe tbody tr th {\n",
       "        vertical-align: top;\n",
       "    }\n",
       "\n",
       "    .dataframe thead th {\n",
       "        text-align: right;\n",
       "    }\n",
       "</style>\n",
       "<table border=\"1\" class=\"dataframe\">\n",
       "  <thead>\n",
       "    <tr style=\"text-align: right;\">\n",
       "      <th></th>\n",
       "      <th>NO_DECLARATION</th>\n",
       "      <th>EXT_FREQ</th>\n",
       "      <th>MTM8_X</th>\n",
       "      <th>MTM8_Y</th>\n",
       "      <th>LONGITUDE</th>\n",
       "      <th>LATITUDE</th>\n",
       "      <th>DATE_DIFF</th>\n",
       "      <th>DEC_MONTH</th>\n",
       "      <th>DEC_ISSUE</th>\n",
       "    </tr>\n",
       "  </thead>\n",
       "  <tbody>\n",
       "    <tr>\n",
       "      <th>NO_DECLARATION</th>\n",
       "      <td>1.00</td>\n",
       "      <td>-0.05</td>\n",
       "      <td>-0.05</td>\n",
       "      <td>-0.00</td>\n",
       "      <td>-0.05</td>\n",
       "      <td>-0.00</td>\n",
       "      <td>0.11</td>\n",
       "      <td>0.08</td>\n",
       "      <td>nan</td>\n",
       "    </tr>\n",
       "    <tr>\n",
       "      <th>EXT_FREQ</th>\n",
       "      <td>-0.05</td>\n",
       "      <td>1.00</td>\n",
       "      <td>0.02</td>\n",
       "      <td>0.01</td>\n",
       "      <td>0.02</td>\n",
       "      <td>0.01</td>\n",
       "      <td>-0.03</td>\n",
       "      <td>-0.05</td>\n",
       "      <td>nan</td>\n",
       "    </tr>\n",
       "    <tr>\n",
       "      <th>MTM8_X</th>\n",
       "      <td>-0.05</td>\n",
       "      <td>0.02</td>\n",
       "      <td>1.00</td>\n",
       "      <td>0.22</td>\n",
       "      <td>1.00</td>\n",
       "      <td>0.22</td>\n",
       "      <td>-0.07</td>\n",
       "      <td>-0.00</td>\n",
       "      <td>nan</td>\n",
       "    </tr>\n",
       "    <tr>\n",
       "      <th>MTM8_Y</th>\n",
       "      <td>-0.00</td>\n",
       "      <td>0.01</td>\n",
       "      <td>0.22</td>\n",
       "      <td>1.00</td>\n",
       "      <td>0.22</td>\n",
       "      <td>1.00</td>\n",
       "      <td>0.01</td>\n",
       "      <td>0.02</td>\n",
       "      <td>nan</td>\n",
       "    </tr>\n",
       "    <tr>\n",
       "      <th>LONGITUDE</th>\n",
       "      <td>-0.05</td>\n",
       "      <td>0.02</td>\n",
       "      <td>1.00</td>\n",
       "      <td>0.22</td>\n",
       "      <td>1.00</td>\n",
       "      <td>0.22</td>\n",
       "      <td>-0.07</td>\n",
       "      <td>-0.00</td>\n",
       "      <td>nan</td>\n",
       "    </tr>\n",
       "    <tr>\n",
       "      <th>LATITUDE</th>\n",
       "      <td>-0.00</td>\n",
       "      <td>0.01</td>\n",
       "      <td>0.22</td>\n",
       "      <td>1.00</td>\n",
       "      <td>0.22</td>\n",
       "      <td>1.00</td>\n",
       "      <td>0.01</td>\n",
       "      <td>0.02</td>\n",
       "      <td>nan</td>\n",
       "    </tr>\n",
       "    <tr>\n",
       "      <th>DATE_DIFF</th>\n",
       "      <td>0.11</td>\n",
       "      <td>-0.03</td>\n",
       "      <td>-0.07</td>\n",
       "      <td>0.01</td>\n",
       "      <td>-0.07</td>\n",
       "      <td>0.01</td>\n",
       "      <td>1.00</td>\n",
       "      <td>0.05</td>\n",
       "      <td>nan</td>\n",
       "    </tr>\n",
       "    <tr>\n",
       "      <th>DEC_MONTH</th>\n",
       "      <td>0.08</td>\n",
       "      <td>-0.05</td>\n",
       "      <td>-0.00</td>\n",
       "      <td>0.02</td>\n",
       "      <td>-0.00</td>\n",
       "      <td>0.02</td>\n",
       "      <td>0.05</td>\n",
       "      <td>1.00</td>\n",
       "      <td>nan</td>\n",
       "    </tr>\n",
       "    <tr>\n",
       "      <th>DEC_ISSUE</th>\n",
       "      <td>nan</td>\n",
       "      <td>nan</td>\n",
       "      <td>nan</td>\n",
       "      <td>nan</td>\n",
       "      <td>nan</td>\n",
       "      <td>nan</td>\n",
       "      <td>nan</td>\n",
       "      <td>nan</td>\n",
       "      <td>nan</td>\n",
       "    </tr>\n",
       "  </tbody>\n",
       "</table>\n",
       "</div>"
      ],
      "text/plain": [
       "                 NO_DECLARATION   EXT_FREQ  MTM8_X  MTM8_Y  LONGITUDE  \\\n",
       "NO_DECLARATION              1.00     -0.05   -0.05   -0.00      -0.05   \n",
       "EXT_FREQ                   -0.05      1.00    0.02    0.01       0.02   \n",
       "MTM8_X                     -0.05      0.02    1.00    0.22       1.00   \n",
       "MTM8_Y                     -0.00      0.01    0.22    1.00       0.22   \n",
       "LONGITUDE                  -0.05      0.02    1.00    0.22       1.00   \n",
       "LATITUDE                   -0.00      0.01    0.22    1.00       0.22   \n",
       "DATE_DIFF                   0.11     -0.03   -0.07    0.01      -0.07   \n",
       "DEC_MONTH                   0.08     -0.05   -0.00    0.02      -0.00   \n",
       "DEC_ISSUE                    nan       nan     nan     nan        nan   \n",
       "\n",
       "                 LATITUDE  DATE_DIFF  DEC_MONTH  DEC_ISSUE  \n",
       "NO_DECLARATION      -0.00       0.11       0.08        nan  \n",
       "EXT_FREQ             0.01      -0.03      -0.05        nan  \n",
       "MTM8_X               0.22      -0.07      -0.00        nan  \n",
       "MTM8_Y               1.00       0.01       0.02        nan  \n",
       "LONGITUDE            0.22      -0.07      -0.00        nan  \n",
       "LATITUDE             1.00       0.01       0.02        nan  \n",
       "DATE_DIFF            0.01       1.00       0.05        nan  \n",
       "DEC_MONTH            0.02       0.05       1.00        nan  \n",
       "DEC_ISSUE             nan        nan        nan        nan  "
      ]
     },
     "execution_count": 48,
     "metadata": {},
     "output_type": "execute_result"
    }
   ],
   "source": [
    "# Correlation\n",
    "df.corr()"
   ]
  },
  {
   "cell_type": "code",
   "execution_count": 49,
   "metadata": {},
   "outputs": [
    {
     "data": {
      "image/png": "[encoded data removed]",
      "text/plain": [
       "<Figure size 720x504 with 2 Axes>"
      ]
     },
     "metadata": {},
     "output_type": "display_data"
    }
   ],
   "source": [
    "# heatmap\n",
    "corrmat = df.corr()\n",
    "f, ax = plt.subplots(figsize=(10, 7))\n",
    "sns.heatmap(corrmat, vmax=.8, square=True)\n",
    "plt.show()"
   ]
  },
  {
   "cell_type": "code",
   "execution_count": 30,
   "metadata": {},
   "outputs": [],
   "source": [
    "# Visualization : correlation between Price x SQFT\n",
    "\n",
    "#plt.figure(figsize=(10,10))\n",
    "#plt.xlabel('DATE_DIFF')\n",
    "#plt.ylabel('DEC_MONTH')\n",
    "\n",
    "#plt.plot(df['DATE_DIFF'], df['DEC_MONTH'], 'o', alpha=0.3)\n",
    "#plt.show()"
   ]
  },
  {
   "cell_type": "code",
   "execution_count": 31,
   "metadata": {},
   "outputs": [],
   "source": [
    "# TODO: Create a scatterplot Price x Mean Income\n",
    "# TODO: What is the correlation between Price x Mean Income\n"
   ]
  },
  {
   "cell_type": "markdown",
   "metadata": {},
   "source": [
    "## Multiple variables (Categorical x Numeric)"
   ]
  },
  {
   "cell_type": "code",
   "execution_count": 50,
   "metadata": {},
   "outputs": [
    {
     "data": {
      "image/png": "[encoded data removed]",
      "text/plain": [
       "<Figure size 432x288 with 1 Axes>"
      ]
     },
     "metadata": {},
     "output_type": "display_data"
    }
   ],
   "source": [
    "# Box plot to show the distribution between BOROUGHS x Number days between declaration and inspection\n",
    "values = []\n",
    "labels = []\n",
    "for bdr in sorted(df['BORO_NAME'].unique()):\n",
    "    labels.append(bdr)\n",
    "    values.append(list(df[df['BORO_NAME']==bdr]['DATE_DIFF'].values))\n",
    "\n",
    "plt.boxplot(values)\n",
    "plt.xticks(range(1,len(labels)+1), labels, rotation='horizontal')\n",
    "plt.show()"
   ]
  },
  {
   "cell_type": "markdown",
   "metadata": {},
   "source": [
    "## Multiple variables (Categorical x Categorical)"
   ]
  },
  {
   "cell_type": "code",
   "execution_count": null,
   "metadata": {},
   "outputs": [],
   "source": [
    "# Count of number of houses by zipcode and bedrooms\n",
    "\n",
    "n_bedrooms = [2,3,4]\n",
    "zipcodes = df['zipcode'].unique()\n",
    "r = range(len(zipcodes))\n",
    "\n",
    "df_group = df.groupby(['zipcode', 'bedrooms'])['id'].count().reset_index()\n",
    "df_group = df.pivot_table(index='zipcode', columns = 'bedrooms', values='id')\n",
    "df_group = df_group[[2,3,4]]\n",
    "df_group.columns = ['2BR','3BR','4BR']\n",
    "df_group = df_group.sort_values(['2BR','3BR','4BR'])\n",
    "\n",
    "raw_data = {'2BR': df_group['2BR'].values, \n",
    "            '3BR': df_group['3BR'].values, \n",
    "            '4BR': df_group['4BR'].values\n",
    "           }\n",
    "\n",
    "# From raw value to percentage\n",
    "totals = [float(i+j+k) for i,j,k in zip(raw_data['2BR'], raw_data['3BR'], raw_data['4BR'])]\n",
    "br2Bars = [i / j * 100 for i,j in zip(raw_data['2BR'], totals)]\n",
    "br3Bars = [i / j * 100 for i,j in zip(raw_data['3BR'], totals)]\n",
    "br4Bars = [i / j * 100 for i,j in zip(raw_data['4BR'], totals)]\n",
    "\n",
    "# plot\n",
    "barWidth = 0.85\n",
    "names = zipcodes\n",
    "plt.figure(figsize=(12,6))\n",
    "# Create green Bars\n",
    "plt.bar(r, br2Bars, edgecolor='white', width=barWidth, alpha=0.7, color='g', label='2BR')\n",
    "# Create orange Bars\n",
    "plt.bar(r, br3Bars, bottom=br2Bars, edgecolor='white', width=barWidth, alpha=0.7, color='orange', label='3BR')\n",
    "# Create blue Bars\n",
    "plt.bar(r, br4Bars, bottom=[i+j for i,j in zip(br2Bars, br3Bars)], edgecolor='white', width=barWidth, alpha=0.7, color='b', label='4BR')\n",
    "\n",
    "# Limit on y-axis\n",
    "plt.ylim(0,100)\n",
    "\n",
    "# Custom x axis\n",
    "plt.xticks(r, names, rotation='vertical')\n",
    "plt.ylabel(\"Percent\")\n",
    "plt.xlabel(\"zipcode\")\n",
    "\n",
    "plt.legend()\n",
    "\n",
    "# Show graphic\n",
    "plt.show()"
   ]
  },
  {
   "cell_type": "markdown",
   "metadata": {},
   "source": [
    "## Business Perspective\n",
    "\"An approximate answer to the right question is worth a great deal more than a precise answer to the wrong question.\" John Tukey"
   ]
  },
  {
   "cell_type": "code",
   "execution_count": null,
   "metadata": {
    "collapsed": true
   },
   "outputs": [],
   "source": [
    "# What is the total number of sales per month?"
   ]
  },
  {
   "cell_type": "code",
   "execution_count": null,
   "metadata": {
    "collapsed": true
   },
   "outputs": [],
   "source": [
    "# What is the total sales ($) per month?"
   ]
  },
  {
   "cell_type": "code",
   "execution_count": null,
   "metadata": {
    "collapsed": true
   },
   "outputs": [],
   "source": [
    "# What is the total number of sales per day of week?"
   ]
  },
  {
   "cell_type": "code",
   "execution_count": null,
   "metadata": {
    "collapsed": true
   },
   "outputs": [],
   "source": [
    "# What is the average price by zip code?"
   ]
  },
  {
   "cell_type": "code",
   "execution_count": null,
   "metadata": {
    "collapsed": true
   },
   "outputs": [],
   "source": [
    "# Identify the zip codes with highest and lowest price per square foot"
   ]
  },
  {
   "cell_type": "code",
   "execution_count": null,
   "metadata": {
    "collapsed": true
   },
   "outputs": [],
   "source": [
    "# Is the grade a good indicator of price?"
   ]
  },
  {
   "cell_type": "code",
   "execution_count": null,
   "metadata": {
    "collapsed": true
   },
   "outputs": [],
   "source": [
    "# Is the walking score a good indicator of price?"
   ]
  },
  {
   "cell_type": "code",
   "execution_count": null,
   "metadata": {},
   "outputs": [],
   "source": [
    "# Apply linear regression to the price\n",
    "\n",
    "# We can use this regression test with our 4 columns.ie: DATE_DEC_FIRST, DECLARED, DATE_DIFF, EXT_FREQ\n",
    "\n",
    "from sklearn import linear_model\n",
    "\n",
    "# Create linear regression object\n",
    "model = linear_model.LinearRegression()\n",
    "\n",
    "columns = ['bedrooms', 'sqft_living15', 'grade', 'condition']\n",
    "\n",
    "# Train the model using the training sets\n",
    "model.fit(df[columns], df['price'])\n",
    "\n",
    "# Print the Coefficients\n",
    "print('Coefficients', np.round(model.coef_,2))\n",
    "print('Interception', round(model.intercept_,2))\n",
    "print('')\n",
    "for i, col in enumerate(columns):\n",
    "    print(col, round(model.coef_[i],1))\n",
    "\n",
    "print('')\n",
    "prediction = model.predict([[4, 3000, 10, 4]])\n",
    "print('Prediction', prediction.round(1)[0])"
   ]
  },
  {
   "cell_type": "code",
   "execution_count": null,
   "metadata": {},
   "outputs": [],
   "source": [
    "# Apply linear regression to the price considering the zipcode\n",
    "\n",
    "from sklearn import linear_model\n",
    "\n",
    "# Create linear regression object\n",
    "model = linear_model.LinearRegression()\n",
    "\n",
    "columns = ['bedrooms', 'sqft_living15', 'grade', 'condition']\n",
    "\n",
    "# Train the model using the training sets\n",
    "zipcode = 98000\n",
    "model.fit(df[df['zipcode']==zipcode][columns], df[df['zipcode']==zipcode]['price'])\n",
    "\n",
    "# Print the Coefficients\n",
    "print('Coefficients', np.round(model.coef_,2))\n",
    "print('Interception', round(model.intercept_,2))\n",
    "print('')\n",
    "for i, col in enumerate(columns):\n",
    "    print(col, round(model.coef_[i],1))\n",
    "\n",
    "print('')\n",
    "prediction = model.predict([[4, 3000, 10, 4]])\n",
    "print('Prediction', prediction.round(1)[0])"
   ]
  }
 ],
 "metadata": {
  "anaconda-cloud": {},
  "kernelspec": {
   "display_name": "Python 3",
   "language": "python",
   "name": "python3"
  },
  "language_info": {
   "codemirror_mode": {
    "name": "ipython",
    "version": 3
   },
   "file_extension": ".py",
   "mimetype": "text/x-python",
   "name": "python",
   "nbconvert_exporter": "python",
   "pygments_lexer": "ipython3",
   "version": "3.6.5"
  }
 },
 "nbformat": 4,
 "nbformat_minor": 1
}
